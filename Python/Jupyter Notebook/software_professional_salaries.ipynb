{
 "cells": [
  {
   "cell_type": "code",
   "execution_count": 1,
   "metadata": {},
   "outputs": [],
   "source": [
    "# to import necessary libraries\n",
    "\n",
    "import pandas as pd\n",
    "import requests\n",
    "import matplotlib.pyplot as plt\n",
    "import seaborn as sns\n",
    "import os"
   ]
  },
  {
   "cell_type": "code",
   "execution_count": 2,
   "metadata": {},
   "outputs": [
    {
     "name": "stdout",
     "output_type": "stream",
     "text": [
      "<class 'pandas.core.frame.DataFrame'>\n",
      "RangeIndex: 22770 entries, 0 to 22769\n",
      "Data columns (total 8 columns):\n",
      " #   Column             Non-Null Count  Dtype  \n",
      "---  ------             --------------  -----  \n",
      " 0   Rating             22770 non-null  float64\n",
      " 1   Company Name       22769 non-null  object \n",
      " 2   Job Title          22770 non-null  object \n",
      " 3   Salary             22770 non-null  int64  \n",
      " 4   Salaries Reported  22770 non-null  int64  \n",
      " 5   Location           22770 non-null  object \n",
      " 6   Employment Status  22770 non-null  object \n",
      " 7   Job Roles          22770 non-null  object \n",
      "dtypes: float64(1), int64(2), object(5)\n",
      "memory usage: 1.4+ MB\n"
     ]
    }
   ],
   "source": [
    "# to load csv file to sps dataframe and check cols dtype\n",
    "\n",
    "sps = pd.read_csv(os.path.abspath('data\\Software Professionals Salaries.csv'))\n",
    "sps.info()"
   ]
  },
  {
   "cell_type": "code",
   "execution_count": null,
   "metadata": {},
   "outputs": [
    {
     "data": {
      "text/html": [
       "<div>\n",
       "<style scoped>\n",
       "    .dataframe tbody tr th:only-of-type {\n",
       "        vertical-align: middle;\n",
       "    }\n",
       "\n",
       "    .dataframe tbody tr th {\n",
       "        vertical-align: top;\n",
       "    }\n",
       "\n",
       "    .dataframe thead th {\n",
       "        text-align: right;\n",
       "    }\n",
       "</style>\n",
       "<table border=\"1\" class=\"dataframe\">\n",
       "  <thead>\n",
       "    <tr style=\"text-align: right;\">\n",
       "      <th></th>\n",
       "      <th>Rating</th>\n",
       "      <th>Company Name</th>\n",
       "      <th>Job Title</th>\n",
       "      <th>Salary</th>\n",
       "      <th>Salaries Reported</th>\n",
       "      <th>Location</th>\n",
       "      <th>Employment Status</th>\n",
       "      <th>Job Roles</th>\n",
       "    </tr>\n",
       "  </thead>\n",
       "  <tbody>\n",
       "    <tr>\n",
       "      <th>13760</th>\n",
       "      <td>4.0</td>\n",
       "      <td>NaN</td>\n",
       "      <td>Software Development Engineer</td>\n",
       "      <td>1188000</td>\n",
       "      <td>1</td>\n",
       "      <td>Bangalore</td>\n",
       "      <td>Full Time</td>\n",
       "      <td>SDE</td>\n",
       "    </tr>\n",
       "  </tbody>\n",
       "</table>\n",
       "</div>"
      ],
      "text/plain": [
       "       Rating Company Name                      Job Title   Salary  \\\n",
       "13760     4.0          NaN  Software Development Engineer  1188000   \n",
       "\n",
       "       Salaries Reported   Location Employment Status Job Roles  \n",
       "13760                  1  Bangalore         Full Time       SDE  "
      ]
     },
     "execution_count": 3,
     "metadata": {},
     "output_type": "execute_result"
    }
   ],
   "source": [
    "# to check unique null value\n",
    "\n",
    "sps[sps['Company Name'].isna()]"
   ]
  },
  {
   "cell_type": "code",
   "execution_count": 4,
   "metadata": {},
   "outputs": [
    {
     "name": "stdout",
     "output_type": "stream",
     "text": [
      "sps rows: 22770\n",
      "sps cols: 8\n"
     ]
    }
   ],
   "source": [
    "# to check its shape\n",
    "\n",
    "print(f'sps rows: {sps.shape[0]}\\nsps cols: {sps.shape[1]}')"
   ]
  },
  {
   "cell_type": "code",
   "execution_count": 5,
   "metadata": {},
   "outputs": [
    {
     "name": "stdout",
     "output_type": "stream",
     "text": [
      "Total unique 'Job Roles': 11\n",
      "Job Roles:\n",
      "['Android' 'Backend' 'Database' 'Frontend' 'IOS' 'Java' 'Mobile' 'SDE'\n",
      " 'Python' 'Web' 'Testing']\n"
     ]
    }
   ],
   "source": [
    "# how many unique Job Roles in the dataset\n",
    "\n",
    "print(f\"Total unique 'Job Roles': {sps['Job Roles'].nunique()}\")\n",
    "print(f\"Job Roles:\\n{sps['Job Roles'].unique()}\")"
   ]
  },
  {
   "cell_type": "code",
   "execution_count": 6,
   "metadata": {},
   "outputs": [
    {
     "data": {
      "text/plain": [
       "102"
      ]
     },
     "execution_count": 6,
     "metadata": {},
     "output_type": "execute_result"
    }
   ],
   "source": [
    "# how many unique Job Title for Python Job Role\n",
    "\n",
    "sps.loc[sps['Job Roles'] == 'Python']['Job Title'].nunique()"
   ]
  },
  {
   "cell_type": "code",
   "execution_count": 7,
   "metadata": {},
   "outputs": [
    {
     "data": {
      "text/plain": [
       "3"
      ]
     },
     "execution_count": 7,
     "metadata": {},
     "output_type": "execute_result"
    }
   ],
   "source": [
    "# total Company Name with Python Job Role and Job Title containing substring Analyst\n",
    "\n",
    "sps.loc[(sps['Job Roles'] == 'Python') & (sps['Job Title'].str.contains('Analyst', regex=False))]['Company Name'].nunique()"
   ]
  },
  {
   "cell_type": "code",
   "execution_count": 8,
   "metadata": {},
   "outputs": [
    {
     "data": {
      "text/html": [
       "<div>\n",
       "<style scoped>\n",
       "    .dataframe tbody tr th:only-of-type {\n",
       "        vertical-align: middle;\n",
       "    }\n",
       "\n",
       "    .dataframe tbody tr th {\n",
       "        vertical-align: top;\n",
       "    }\n",
       "\n",
       "    .dataframe thead th {\n",
       "        text-align: right;\n",
       "    }\n",
       "</style>\n",
       "<table border=\"1\" class=\"dataframe\">\n",
       "  <thead>\n",
       "    <tr style=\"text-align: right;\">\n",
       "      <th></th>\n",
       "      <th>Company Name</th>\n",
       "      <th>Salaries Reported</th>\n",
       "    </tr>\n",
       "  </thead>\n",
       "  <tbody>\n",
       "    <tr>\n",
       "      <th>660</th>\n",
       "      <td>Amazon</td>\n",
       "      <td>2636</td>\n",
       "    </tr>\n",
       "  </tbody>\n",
       "</table>\n",
       "</div>"
      ],
      "text/plain": [
       "    Company Name  Salaries Reported\n",
       "660       Amazon               2636"
      ]
     },
     "execution_count": 8,
     "metadata": {},
     "output_type": "execute_result"
    }
   ],
   "source": [
    "# Company Name with highest number of Salaries Reported\n",
    "\n",
    "sps.groupby('Company Name', as_index=False)['Salaries Reported'].sum().sort_values('Salaries Reported', ascending=False).head(1)\n"
   ]
  },
  {
   "cell_type": "code",
   "execution_count": 9,
   "metadata": {},
   "outputs": [
    {
     "data": {
      "text/plain": [
       "9"
      ]
     },
     "execution_count": 9,
     "metadata": {},
     "output_type": "execute_result"
    }
   ],
   "source": [
    "# how many Locations is this company present in?\n",
    "\n",
    "sps.loc[sps['Company Name'] == 'Amazon']['Location'].nunique()"
   ]
  },
  {
   "cell_type": "markdown",
   "metadata": {},
   "source": [
    "Next code is made using the [Open Access Endpoint](https://www.exchangerate-api.com/docs/free) of the ExchangeRate-API service"
   ]
  },
  {
   "cell_type": "code",
   "execution_count": 10,
   "metadata": {},
   "outputs": [
    {
     "name": "stdout",
     "output_type": "stream",
     "text": [
      "Loading request ExchangeRate | status code: 200\n",
      "Conversion rate EUR-INR at this time: 0.011084\n"
     ]
    },
    {
     "data": {
      "text/html": [
       "<div>\n",
       "<style scoped>\n",
       "    .dataframe tbody tr th:only-of-type {\n",
       "        vertical-align: middle;\n",
       "    }\n",
       "\n",
       "    .dataframe tbody tr th {\n",
       "        vertical-align: top;\n",
       "    }\n",
       "\n",
       "    .dataframe thead th {\n",
       "        text-align: right;\n",
       "    }\n",
       "</style>\n",
       "<table border=\"1\" class=\"dataframe\">\n",
       "  <thead>\n",
       "    <tr style=\"text-align: right;\">\n",
       "      <th></th>\n",
       "      <th>Rating</th>\n",
       "      <th>Company Name</th>\n",
       "      <th>Job Title</th>\n",
       "      <th>Salary</th>\n",
       "      <th>Salaries Reported</th>\n",
       "      <th>Location</th>\n",
       "      <th>Employment Status</th>\n",
       "      <th>Job Roles</th>\n",
       "      <th>Salary EUR</th>\n",
       "    </tr>\n",
       "  </thead>\n",
       "  <tbody>\n",
       "    <tr>\n",
       "      <th>17248</th>\n",
       "      <td>4.2</td>\n",
       "      <td>Skilrock Technologies</td>\n",
       "      <td>Software Development Engineer</td>\n",
       "      <td>228000</td>\n",
       "      <td>1</td>\n",
       "      <td>New Delhi</td>\n",
       "      <td>Full Time</td>\n",
       "      <td>SDE</td>\n",
       "      <td>2527</td>\n",
       "    </tr>\n",
       "    <tr>\n",
       "      <th>4872</th>\n",
       "      <td>2.1</td>\n",
       "      <td>Jupiter Infoway</td>\n",
       "      <td>Oracle Database Developer</td>\n",
       "      <td>600000</td>\n",
       "      <td>1</td>\n",
       "      <td>Bangalore</td>\n",
       "      <td>Full Time</td>\n",
       "      <td>Database</td>\n",
       "      <td>6650</td>\n",
       "    </tr>\n",
       "    <tr>\n",
       "      <th>7304</th>\n",
       "      <td>3.5</td>\n",
       "      <td>Royal</td>\n",
       "      <td>IOS Developer</td>\n",
       "      <td>264000</td>\n",
       "      <td>1</td>\n",
       "      <td>Bangalore</td>\n",
       "      <td>Full Time</td>\n",
       "      <td>IOS</td>\n",
       "      <td>2926</td>\n",
       "    </tr>\n",
       "    <tr>\n",
       "      <th>17425</th>\n",
       "      <td>4.0</td>\n",
       "      <td>Software development Engineer</td>\n",
       "      <td>Software Development Engineer</td>\n",
       "      <td>800000</td>\n",
       "      <td>1</td>\n",
       "      <td>New Delhi</td>\n",
       "      <td>Full Time</td>\n",
       "      <td>SDE</td>\n",
       "      <td>8867</td>\n",
       "    </tr>\n",
       "    <tr>\n",
       "      <th>11967</th>\n",
       "      <td>4.0</td>\n",
       "      <td>Ericsson-Worldwide</td>\n",
       "      <td>Software Development Engineer</td>\n",
       "      <td>1000000</td>\n",
       "      <td>2</td>\n",
       "      <td>Bangalore</td>\n",
       "      <td>Full Time</td>\n",
       "      <td>SDE</td>\n",
       "      <td>11084</td>\n",
       "    </tr>\n",
       "  </tbody>\n",
       "</table>\n",
       "</div>"
      ],
      "text/plain": [
       "       Rating                   Company Name                      Job Title  \\\n",
       "17248     4.2          Skilrock Technologies  Software Development Engineer   \n",
       "4872      2.1                Jupiter Infoway      Oracle Database Developer   \n",
       "7304      3.5                          Royal                  IOS Developer   \n",
       "17425     4.0  Software development Engineer  Software Development Engineer   \n",
       "11967     4.0             Ericsson-Worldwide  Software Development Engineer   \n",
       "\n",
       "        Salary  Salaries Reported   Location Employment Status Job Roles  \\\n",
       "17248   228000                  1  New Delhi         Full Time       SDE   \n",
       "4872    600000                  1  Bangalore         Full Time  Database   \n",
       "7304    264000                  1  Bangalore         Full Time       IOS   \n",
       "17425   800000                  1  New Delhi         Full Time       SDE   \n",
       "11967  1000000                  2  Bangalore         Full Time       SDE   \n",
       "\n",
       "       Salary EUR  \n",
       "17248        2527  \n",
       "4872         6650  \n",
       "7304         2926  \n",
       "17425        8867  \n",
       "11967       11084  "
      ]
     },
     "execution_count": 10,
     "metadata": {},
     "output_type": "execute_result"
    }
   ],
   "source": [
    "# to convert Salary from Indian Rupees to EUR (rounded to zero decimals) in new column Salary EUR\n",
    "\n",
    "url = 'https://open.er-api.com/v6/latest/INR'\n",
    "exc_rate = requests.get(url)\n",
    "print(f'Loading request ExchangeRate | status code: {exc_rate.status_code}')\n",
    "\n",
    "rate = exc_rate.json()['rates']['EUR']\n",
    "print(f'Conversion rate EUR-INR at this time: {rate}')\n",
    "\n",
    "sps['Salary EUR'] = round(sps['Salary'] * rate).astype('int64')\n",
    "sps.sample(5)"
   ]
  },
  {
   "cell_type": "code",
   "execution_count": 11,
   "metadata": {},
   "outputs": [
    {
     "name": "stdout",
     "output_type": "stream",
     "text": [
      "Salary EUR on average: 5387.03\n"
     ]
    }
   ],
   "source": [
    "# Salary EUR on average for Python Job Role\n",
    "\n",
    "avg_salary = round(sps.loc[sps['Job Roles'] == 'Python']['Salary EUR'].mean(), 2)\n",
    "print(f'Salary EUR on average: {avg_salary}')"
   ]
  },
  {
   "cell_type": "code",
   "execution_count": 12,
   "metadata": {},
   "outputs": [
    {
     "name": "stdout",
     "output_type": "stream",
     "text": [
      "Thapar University | Salary EUR on average: 997,560.0\n"
     ]
    }
   ],
   "source": [
    "# Company Name with the highest average Salary EUR across all Job Titles\n",
    "\n",
    "cmp = sps.groupby('Company Name', as_index=False)['Salary EUR'].mean().sort_values('Salary EUR', ascending=False).head(1)\n",
    "print(f\"{cmp['Company Name'].item()} | Salary EUR on average: {'{:,}'.format(cmp['Salary EUR'].item())}\")\n"
   ]
  },
  {
   "cell_type": "code",
   "execution_count": 13,
   "metadata": {},
   "outputs": [
    {
     "data": {
      "image/png": "[encoded data removed]",
      "text/plain": [
       "<Figure size 1200x700 with 1 Axes>"
      ]
     },
     "metadata": {},
     "output_type": "display_data"
    },
    {
     "name": "stdout",
     "output_type": "stream",
     "text": [
      "\n",
      "      The anomaly in the plot is Thapar University.\n",
      "      Its average salary is not very plausible compared to that of other companies. \n",
      "      Especially when compared to a not so high average rating score.\n",
      "       \n"
     ]
    }
   ],
   "source": [
    "# to plot the relationship between the average Salary EUR and the average Rating for each Company\n",
    "\n",
    "# to create df with necessary values\n",
    "\n",
    "sps_group = sps.groupby('Company Name', as_index=False)[['Rating', 'Salary EUR']].mean()\n",
    "\n",
    "# scatterplot\n",
    "\n",
    "sns.set_theme(rc={'figure.figsize':(12, 7)})\n",
    "plot = sns.scatterplot(x='Rating', y='Salary EUR', data=sps_group, linewidth=0, alpha=0.8)\n",
    "plot.set(title='Relationship Salary and Rating on average for each Company')\n",
    "plt.ticklabel_format(style='plain', axis='y')\n",
    "plt.show()\n",
    "\n",
    "# which Company is causing that oddity?\n",
    "\n",
    "oddity = sps_group.loc[sps_group['Salary EUR'] > 9e5]['Company Name'].item()\n",
    "print(f'''\n",
    "      The anomaly in the plot is {oddity}.\n",
    "      Its average salary is not very plausible compared to that of other companies. \n",
    "      Especially when compared to a not so high average rating score.\n",
    "       ''')"
   ]
  }
 ],
 "metadata": {
  "kernelspec": {
   "display_name": "boolean",
   "language": "python",
   "name": "python3"
  },
  "language_info": {
   "codemirror_mode": {
    "name": "ipython",
    "version": 3
   },
   "file_extension": ".py",
   "mimetype": "text/x-python",
   "name": "python",
   "nbconvert_exporter": "python",
   "pygments_lexer": "ipython3",
   "version": "3.10.13"
  }
 },
 "nbformat": 4,
 "nbformat_minor": 2
}
