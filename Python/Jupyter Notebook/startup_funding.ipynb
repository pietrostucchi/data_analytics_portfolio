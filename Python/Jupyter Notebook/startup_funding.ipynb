{
 "cells": [
  {
   "cell_type": "code",
   "execution_count": 1,
   "metadata": {},
   "outputs": [],
   "source": [
    "# to import necessary libraries\n",
    "\n",
    "import pandas as pd\n",
    "import numpy as np\n",
    "import os\n",
    "import requests\n",
    "import seaborn as sns\n",
    "import matplotlib.pyplot as plt"
   ]
  },
  {
   "cell_type": "code",
   "execution_count": 2,
   "metadata": {},
   "outputs": [
    {
     "data": {
      "text/plain": [
       "['Software Professionals Salaries.csv',\n",
       " 'startup_funding2019.csv',\n",
       " 'startup_funding2020.csv',\n",
       " 'startup_funding2021.csv']"
      ]
     },
     "execution_count": 2,
     "metadata": {},
     "output_type": "execute_result"
    }
   ],
   "source": [
    "# to check csv files in data folder\n",
    "\n",
    "folder = os.path.abspath('data')\n",
    "files = os.listdir(folder)\n",
    "files"
   ]
  },
  {
   "cell_type": "code",
   "execution_count": 3,
   "metadata": {},
   "outputs": [
    {
     "name": "stdout",
     "output_type": "stream",
     "text": [
      "fnd rows: 2343 | fnd cols: 10\n",
      "\n",
      "<class 'pandas.core.frame.DataFrame'>\n",
      "RangeIndex: 2343 entries, 0 to 2342\n",
      "Data columns (total 10 columns):\n",
      " #   Column         Non-Null Count  Dtype \n",
      "---  ------         --------------  ----- \n",
      " 0   Company/Brand  2343 non-null   object\n",
      " 1   Founded        2102 non-null   object\n",
      " 2   HeadQuarter    2228 non-null   object\n",
      " 3   Sector         2325 non-null   object\n",
      " 4   What it does   2343 non-null   object\n",
      " 5   Founders       2324 non-null   object\n",
      " 6   Investor       2243 non-null   object\n",
      " 7   Amount($)      2211 non-null   object\n",
      " 8   Stage          1220 non-null   object\n",
      " 9   Year           2343 non-null   object\n",
      "dtypes: object(10)\n",
      "memory usage: 183.2+ KB\n"
     ]
    }
   ],
   "source": [
    "# to load all three csv files in a dataframe called 'fnd' adding a new column named Year that includes the year of the csv file\n",
    "\n",
    "# to create an empty dataframe\n",
    "\n",
    "fnd = pd.DataFrame()\n",
    "\n",
    "# to load all three files\n",
    "\n",
    "for file in files:\n",
    "    if file[:7] == 'startup':\n",
    "        df_tmp = pd.read_csv(f'{folder}/{file}')\n",
    "        df_tmp['Year'] = file[-8:-4]\n",
    "        fnd = pd.concat([fnd, df_tmp])\n",
    "\n",
    "# to reset index of the new dataframe\n",
    "\n",
    "fnd.reset_index(inplace=True, drop=True)\n",
    "\n",
    "# to check its shape\n",
    "\n",
    "print(f'fnd rows: {fnd.shape[0]} | fnd cols: {fnd.shape[1]}\\n')\n",
    "\n",
    "# to check cols dtype and null\n",
    "\n",
    "fnd.info()"
   ]
  },
  {
   "cell_type": "code",
   "execution_count": 8,
   "metadata": {},
   "outputs": [],
   "source": [
    "# to convert 'Year' to integer\n",
    "\n",
    "fnd['Year'] = pd.to_numeric(fnd['Year'])\n"
   ]
  },
  {
   "cell_type": "code",
   "execution_count": 9,
   "metadata": {},
   "outputs": [],
   "source": [
    "# to convert 'Amount($)' to nullable integer\n",
    "\n",
    "fnd['Amount($)'] = fnd['Amount($)'].str.replace('$', '', regex=False)\n",
    "fnd['Amount($)'] = fnd['Amount($)'].str.replace(',', '', regex=False)\n",
    "fnd['Amount($)'] = fnd['Amount($)'].str.replace('.', '', regex=False)\n",
    "fnd['Amount($)'] = fnd['Amount($)'].replace('Undisclosed', np.NaN, regex=False)\n",
    "fnd['Amount($)'] = fnd['Amount($)'].astype('Int64')"
   ]
  },
  {
   "cell_type": "code",
   "execution_count": 10,
   "metadata": {},
   "outputs": [],
   "source": [
    "# to convert 'Founded' to nullable integer\n",
    "\n",
    "fnd['Founded'] = fnd['Founded'].replace('-', np.nan, regex=False)\n",
    "fnd['Founded'] = fnd['Founded'].astype('float64')\n",
    "fnd['Founded'] = fnd['Founded'].astype('Int64')"
   ]
  },
  {
   "cell_type": "code",
   "execution_count": 11,
   "metadata": {},
   "outputs": [
    {
     "name": "stdout",
     "output_type": "stream",
     "text": [
      "<class 'pandas.core.frame.DataFrame'>\n",
      "RangeIndex: 2343 entries, 0 to 2342\n",
      "Data columns (total 10 columns):\n",
      " #   Column         Non-Null Count  Dtype \n",
      "---  ------         --------------  ----- \n",
      " 0   Company/Brand  2343 non-null   object\n",
      " 1   Founded        2101 non-null   Int64 \n",
      " 2   HeadQuarter    2228 non-null   object\n",
      " 3   Sector         2325 non-null   object\n",
      " 4   What it does   2343 non-null   object\n",
      " 5   Founders       2324 non-null   object\n",
      " 6   Investor       2243 non-null   object\n",
      " 7   Amount($)      1842 non-null   Int64 \n",
      " 8   Stage          1220 non-null   object\n",
      " 9   Year           2343 non-null   int64 \n",
      "dtypes: Int64(2), int64(1), object(7)\n",
      "memory usage: 187.7+ KB\n"
     ]
    }
   ],
   "source": [
    "fnd.info()"
   ]
  },
  {
   "cell_type": "code",
   "execution_count": 12,
   "metadata": {},
   "outputs": [
    {
     "name": "stdout",
     "output_type": "stream",
     "text": [
      "Total funding: $ 271,558,456,804\n"
     ]
    }
   ],
   "source": [
    "# what is the total 'Amount($)' of funding given in the three years available?\n",
    "\n",
    "tot_amt = fnd['Amount($)'].sum()\n",
    "print('Total funding: $', '{:,}'.format(tot_amt))"
   ]
  },
  {
   "cell_type": "code",
   "execution_count": 13,
   "metadata": {},
   "outputs": [
    {
     "data": {
      "text/html": [
       "<div>\n",
       "<style scoped>\n",
       "    .dataframe tbody tr th:only-of-type {\n",
       "        vertical-align: middle;\n",
       "    }\n",
       "\n",
       "    .dataframe tbody tr th {\n",
       "        vertical-align: top;\n",
       "    }\n",
       "\n",
       "    .dataframe thead th {\n",
       "        text-align: right;\n",
       "    }\n",
       "</style>\n",
       "<table border=\"1\" class=\"dataframe\">\n",
       "  <thead>\n",
       "    <tr style=\"text-align: right;\">\n",
       "      <th></th>\n",
       "      <th>Investor</th>\n",
       "      <th>size</th>\n",
       "    </tr>\n",
       "  </thead>\n",
       "  <tbody>\n",
       "    <tr>\n",
       "      <th>696</th>\n",
       "      <td>Inflection Point Ventures</td>\n",
       "      <td>36</td>\n",
       "    </tr>\n",
       "  </tbody>\n",
       "</table>\n",
       "</div>"
      ],
      "text/plain": [
       "                      Investor  size\n",
       "696  Inflection Point Ventures    36"
      ]
     },
     "execution_count": 13,
     "metadata": {},
     "output_type": "execute_result"
    }
   ],
   "source": [
    "# which 'Investor' funded the highest number of 'Company/Brand' overall from 2019 to 2021?\n",
    "\n",
    "fnd.groupby('Investor', as_index=False).size().sort_values('size', ascending=False).head(1)"
   ]
  },
  {
   "cell_type": "code",
   "execution_count": 14,
   "metadata": {},
   "outputs": [
    {
     "data": {
      "text/html": [
       "<div>\n",
       "<style scoped>\n",
       "    .dataframe tbody tr th:only-of-type {\n",
       "        vertical-align: middle;\n",
       "    }\n",
       "\n",
       "    .dataframe tbody tr th {\n",
       "        vertical-align: top;\n",
       "    }\n",
       "\n",
       "    .dataframe thead th {\n",
       "        text-align: right;\n",
       "    }\n",
       "</style>\n",
       "<table border=\"1\" class=\"dataframe\">\n",
       "  <thead>\n",
       "    <tr style=\"text-align: right;\">\n",
       "      <th></th>\n",
       "      <th>Investor</th>\n",
       "      <th>size</th>\n",
       "      <th>Rank 2020</th>\n",
       "    </tr>\n",
       "  </thead>\n",
       "  <tbody>\n",
       "    <tr>\n",
       "      <th>3</th>\n",
       "      <td>Inflection Point Ventures</td>\n",
       "      <td>11</td>\n",
       "      <td>4</td>\n",
       "    </tr>\n",
       "  </tbody>\n",
       "</table>\n",
       "</div>"
      ],
      "text/plain": [
       "                    Investor  size  Rank 2020\n",
       "3  Inflection Point Ventures    11          4"
      ]
     },
     "execution_count": 14,
     "metadata": {},
     "output_type": "execute_result"
    }
   ],
   "source": [
    "# how did 'Inflection Point Ventures' rank in 2020 in terms of most 'Company/Brand' funded?\n",
    "\n",
    "fnd_group_2020 = fnd.loc[fnd['Year'] == 2020].groupby('Investor', as_index=False).size().sort_values('size', ascending=False)\n",
    "fnd_group_2020.reset_index(inplace=True, drop=True)\n",
    "fnd_group_2020['Rank 2020'] = fnd_group_2020.index + 1\n",
    "fnd_group_2020[fnd_group_2020['Investor'] == 'Inflection Point Ventures']"
   ]
  },
  {
   "cell_type": "code",
   "execution_count": 16,
   "metadata": {},
   "outputs": [],
   "source": [
    "# to load csv in sps dataframe\n",
    "\n",
    "sps = pd.read_csv(os.path.abspath('data\\Software Professionals Salaries.csv'))"
   ]
  },
  {
   "cell_type": "code",
   "execution_count": 19,
   "metadata": {},
   "outputs": [],
   "source": [
    "# average Rating and Salary of each Location in sps_loc dataframe\n",
    "\n",
    "sps_loc = sps.groupby('Location', as_index=False)[['Rating', 'Salary']].mean()"
   ]
  },
  {
   "cell_type": "code",
   "execution_count": 22,
   "metadata": {},
   "outputs": [],
   "source": [
    "# tot Company/Brands and Amount($) for each HeadQuarter in 2021 in fnd_loc dataframe\n",
    "\n",
    "fnd_loc = fnd.loc[fnd['Year'] == 2021].groupby('HeadQuarter', as_index=False).agg({'Company/Brand':'count', 'Amount($)':'sum'})"
   ]
  },
  {
   "cell_type": "code",
   "execution_count": 37,
   "metadata": {},
   "outputs": [],
   "source": [
    "# to merge the two dataframes just created in sps_fnd_loc dataframe\n",
    "\n",
    "sps_fnd_loc = sps_loc.merge(fnd_loc, how='inner', left_on='Location', right_on='HeadQuarter')"
   ]
  },
  {
   "cell_type": "code",
   "execution_count": 38,
   "metadata": {},
   "outputs": [],
   "source": [
    "# to create new column Amount($MM)\n",
    "\n",
    "sps_fnd_loc['Amount($MM)'] = sps_fnd_loc['Amount($)'] / 1e6"
   ]
  },
  {
   "cell_type": "code",
   "execution_count": 39,
   "metadata": {},
   "outputs": [],
   "source": [
    "# to delete HeadQuarter and Amount($) cols\n",
    "\n",
    "sps_fnd_loc.drop(['HeadQuarter', 'Amount($)'], axis=1, inplace=True)"
   ]
  },
  {
   "cell_type": "code",
   "execution_count": 40,
   "metadata": {},
   "outputs": [
    {
     "data": {
      "text/html": [
       "<div>\n",
       "<style scoped>\n",
       "    .dataframe tbody tr th:only-of-type {\n",
       "        vertical-align: middle;\n",
       "    }\n",
       "\n",
       "    .dataframe tbody tr th {\n",
       "        vertical-align: top;\n",
       "    }\n",
       "\n",
       "    .dataframe thead th {\n",
       "        text-align: right;\n",
       "    }\n",
       "</style>\n",
       "<table border=\"1\" class=\"dataframe\">\n",
       "  <thead>\n",
       "    <tr style=\"text-align: right;\">\n",
       "      <th></th>\n",
       "      <th>City</th>\n",
       "      <th>Avg. Rating</th>\n",
       "      <th>Avg. Salary</th>\n",
       "      <th>Nr. Companies Funded</th>\n",
       "      <th>Sum Funding ($MM)</th>\n",
       "    </tr>\n",
       "  </thead>\n",
       "  <tbody>\n",
       "    <tr>\n",
       "      <th>0</th>\n",
       "      <td>Bangalore</td>\n",
       "      <td>3.920232</td>\n",
       "      <td>735344.739593</td>\n",
       "      <td>425</td>\n",
       "      <td>14327.42</td>\n",
       "    </tr>\n",
       "    <tr>\n",
       "      <th>1</th>\n",
       "      <td>Chennai</td>\n",
       "      <td>3.902726</td>\n",
       "      <td>584559.661513</td>\n",
       "      <td>40</td>\n",
       "      <td>717.14</td>\n",
       "    </tr>\n",
       "    <tr>\n",
       "      <th>2</th>\n",
       "      <td>Hyderabad</td>\n",
       "      <td>3.914484</td>\n",
       "      <td>679099.157376</td>\n",
       "      <td>34</td>\n",
       "      <td>243.96</td>\n",
       "    </tr>\n",
       "    <tr>\n",
       "      <th>3</th>\n",
       "      <td>Jaipur</td>\n",
       "      <td>3.940741</td>\n",
       "      <td>629135.802469</td>\n",
       "      <td>11</td>\n",
       "      <td>343.3</td>\n",
       "    </tr>\n",
       "    <tr>\n",
       "      <th>4</th>\n",
       "      <td>Kolkata</td>\n",
       "      <td>4.024719</td>\n",
       "      <td>710925.573034</td>\n",
       "      <td>5</td>\n",
       "      <td>28.0</td>\n",
       "    </tr>\n",
       "    <tr>\n",
       "      <th>5</th>\n",
       "      <td>Mumbai</td>\n",
       "      <td>3.881709</td>\n",
       "      <td>961180.368491</td>\n",
       "      <td>200</td>\n",
       "      <td>153830.3</td>\n",
       "    </tr>\n",
       "    <tr>\n",
       "      <th>6</th>\n",
       "      <td>New Delhi</td>\n",
       "      <td>3.943415</td>\n",
       "      <td>658756.735632</td>\n",
       "      <td>143</td>\n",
       "      <td>1673.01</td>\n",
       "    </tr>\n",
       "    <tr>\n",
       "      <th>7</th>\n",
       "      <td>Pune</td>\n",
       "      <td>3.886082</td>\n",
       "      <td>690476.311153</td>\n",
       "      <td>46</td>\n",
       "      <td>509.07</td>\n",
       "    </tr>\n",
       "  </tbody>\n",
       "</table>\n",
       "</div>"
      ],
      "text/plain": [
       "        City  Avg. Rating    Avg. Salary  Nr. Companies Funded  \\\n",
       "0  Bangalore     3.920232  735344.739593                   425   \n",
       "1    Chennai     3.902726  584559.661513                    40   \n",
       "2  Hyderabad     3.914484  679099.157376                    34   \n",
       "3     Jaipur     3.940741  629135.802469                    11   \n",
       "4    Kolkata     4.024719  710925.573034                     5   \n",
       "5     Mumbai     3.881709  961180.368491                   200   \n",
       "6  New Delhi     3.943415  658756.735632                   143   \n",
       "7       Pune     3.886082  690476.311153                    46   \n",
       "\n",
       "   Sum Funding ($MM)  \n",
       "0           14327.42  \n",
       "1             717.14  \n",
       "2             243.96  \n",
       "3              343.3  \n",
       "4               28.0  \n",
       "5           153830.3  \n",
       "6            1673.01  \n",
       "7             509.07  "
      ]
     },
     "execution_count": 40,
     "metadata": {},
     "output_type": "execute_result"
    }
   ],
   "source": [
    "# to rename columns\n",
    "\n",
    "sps_fnd_loc.rename(columns={'Location':'City', 'Rating':'Avg. Rating', 'Salary':'Avg. Salary',\n",
    "                            'Company/Brand':'Nr. Companies Funded', 'Amount($MM)':'Sum Funding ($MM)'},\n",
    "                            inplace=True)\n",
    "\n",
    "sps_fnd_loc"
   ]
  },
  {
   "cell_type": "code",
   "execution_count": 41,
   "metadata": {},
   "outputs": [
    {
     "name": "stdout",
     "output_type": "stream",
     "text": [
      "City with the highest Avg. Rating score: Kolkata\n",
      "Nr. Companies Funded: 5\n"
     ]
    }
   ],
   "source": [
    "# which city received the highest Avg. Rating score? How many Companies Funded are there?\n",
    "\n",
    "high_rating = sps_fnd_loc.sort_values('Avg. Rating', ascending=False).iloc[0, 0]\n",
    "\n",
    "cmp_funded = sps_fnd_loc.sort_values('Avg. Rating', ascending=False).iloc[0, 3]\n",
    "\n",
    "print(f'City with the highest Avg. Rating score: {high_rating}\\nNr. Companies Funded: {cmp_funded}')"
   ]
  },
  {
   "cell_type": "code",
   "execution_count": 48,
   "metadata": {},
   "outputs": [
    {
     "data": {
      "image/png": "[encoded data removed]",
      "text/plain": [
       "<Figure size 1200x700 with 1 Axes>"
      ]
     },
     "metadata": {},
     "output_type": "display_data"
    },
    {
     "name": "stdout",
     "output_type": "stream",
     "text": [
      "Mumbai stands out in terms of total funding received by companies and salary paid to their employees.\n"
     ]
    }
   ],
   "source": [
    "# scatterplot to show the relationship between Avg. Salary and Sum Funding ($MM)\n",
    "# which city stands out in terms of total funding received by companies and salary paid to their employees?\n",
    "\n",
    "sns.set_theme(rc={'figure.figsize':(12, 7)})\n",
    "sns.scatterplot(x='Avg. Salary', y='Sum Funding ($MM)', data=sps_fnd_loc, hue='City').set(title='Relationship Between Average Salary and Sum Funding')\n",
    "plt.show()\n",
    "\n",
    "st_out = sps_fnd_loc.loc[sps_fnd_loc['Avg. Salary'] > 9e5]['City'].item()\n",
    "print(f'{st_out} stands out in terms of total funding received by companies and salary paid to their employees.')"
   ]
  }
 ],
 "metadata": {
  "kernelspec": {
   "display_name": "boolean",
   "language": "python",
   "name": "python3"
  },
  "language_info": {
   "codemirror_mode": {
    "name": "ipython",
    "version": 3
   },
   "file_extension": ".py",
   "mimetype": "text/x-python",
   "name": "python",
   "nbconvert_exporter": "python",
   "pygments_lexer": "ipython3",
   "version": "3.10.13"
  }
 },
 "nbformat": 4,
 "nbformat_minor": 2
}
