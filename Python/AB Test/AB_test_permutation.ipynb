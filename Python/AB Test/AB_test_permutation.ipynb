{
 "cells": [
  {
   "cell_type": "code",
   "execution_count": 2,
   "id": "adc6ceaa-c8cc-42b3-b9bf-6a45c3cc7a2e",
   "metadata": {},
   "outputs": [],
   "source": [
    "# necessary libraries\n",
    "\n",
    "import os\n",
    "import pandas as pd\n",
    "import numpy as np\n",
    "from scipy import stats\n",
    "import matplotlib.pyplot as plt\n",
    "import seaborn as sns\n",
    "sns.set_theme()"
   ]
  },
  {
   "cell_type": "code",
   "execution_count": 5,
   "id": "ab225ca0-8fe8-462e-8c83-a0a2df6c63e3",
   "metadata": {},
   "outputs": [
    {
     "data": {
      "text/html": [
       "<div>\n",
       "<style scoped>\n",
       "    .dataframe tbody tr th:only-of-type {\n",
       "        vertical-align: middle;\n",
       "    }\n",
       "\n",
       "    .dataframe tbody tr th {\n",
       "        vertical-align: top;\n",
       "    }\n",
       "\n",
       "    .dataframe thead th {\n",
       "        text-align: right;\n",
       "    }\n",
       "</style>\n",
       "<table border=\"1\" class=\"dataframe\">\n",
       "  <thead>\n",
       "    <tr style=\"text-align: right;\">\n",
       "      <th></th>\n",
       "      <th>idUser</th>\n",
       "      <th>dtPurchased</th>\n",
       "      <th>nmGroup</th>\n",
       "      <th>isConv</th>\n",
       "    </tr>\n",
       "  </thead>\n",
       "  <tbody>\n",
       "    <tr>\n",
       "      <th>1363</th>\n",
       "      <td>82786875</td>\n",
       "      <td>2017-01-15</td>\n",
       "      <td>GRP A</td>\n",
       "      <td>0</td>\n",
       "    </tr>\n",
       "    <tr>\n",
       "      <th>1573</th>\n",
       "      <td>68795075</td>\n",
       "      <td>2017-11-23</td>\n",
       "      <td>GRP A</td>\n",
       "      <td>0</td>\n",
       "    </tr>\n",
       "    <tr>\n",
       "      <th>5801</th>\n",
       "      <td>42815045</td>\n",
       "      <td>2017-09-03</td>\n",
       "      <td>GRP B</td>\n",
       "      <td>0</td>\n",
       "    </tr>\n",
       "    <tr>\n",
       "      <th>804</th>\n",
       "      <td>54473228</td>\n",
       "      <td>2017-04-10</td>\n",
       "      <td>GRP A</td>\n",
       "      <td>0</td>\n",
       "    </tr>\n",
       "    <tr>\n",
       "      <th>3852</th>\n",
       "      <td>79878066</td>\n",
       "      <td>2017-12-10</td>\n",
       "      <td>GRP B</td>\n",
       "      <td>1</td>\n",
       "    </tr>\n",
       "  </tbody>\n",
       "</table>\n",
       "</div>"
      ],
      "text/plain": [
       "        idUser dtPurchased nmGroup  isConv\n",
       "1363  82786875  2017-01-15   GRP A       0\n",
       "1573  68795075  2017-11-23   GRP A       0\n",
       "5801  42815045  2017-09-03   GRP B       0\n",
       "804   54473228  2017-04-10   GRP A       0\n",
       "3852  79878066  2017-12-10   GRP B       1"
      ]
     },
     "execution_count": 5,
     "metadata": {},
     "output_type": "execute_result"
    }
   ],
   "source": [
    "# to load csv file\n",
    "\n",
    "ab_test_raw = pd.read_csv(os.path.abspath('data/data_ab.csv'))\n",
    "ab_test = ab_test_raw.copy()\n",
    "ab_test.sample(5)\n",
    "\n",
    "# GRP A: control group\n",
    "# GRP B: treatment group"
   ]
  },
  {
   "cell_type": "code",
   "execution_count": 6,
   "id": "1c2105c0",
   "metadata": {},
   "outputs": [
    {
     "name": "stdout",
     "output_type": "stream",
     "text": [
      "<class 'pandas.core.frame.DataFrame'>\n",
      "RangeIndex: 6177 entries, 0 to 6176\n",
      "Data columns (total 4 columns):\n",
      " #   Column       Non-Null Count  Dtype \n",
      "---  ------       --------------  ----- \n",
      " 0   idUser       6177 non-null   int64 \n",
      " 1   dtPurchased  6177 non-null   object\n",
      " 2   nmGroup      6177 non-null   object\n",
      " 3   isConv       6177 non-null   int64 \n",
      "dtypes: int64(2), object(2)\n",
      "memory usage: 193.2+ KB\n"
     ]
    }
   ],
   "source": [
    "ab_test.info()\n",
    "\n",
    "# no missing values but a variable Dtype have to be fixed"
   ]
  },
  {
   "cell_type": "code",
   "execution_count": 7,
   "id": "958694b5",
   "metadata": {},
   "outputs": [],
   "source": [
    "ab_test['dtPurchased'] = pd.to_datetime(ab_test['dtPurchased'])"
   ]
  },
  {
   "cell_type": "code",
   "execution_count": 10,
   "id": "97db5871",
   "metadata": {},
   "outputs": [
    {
     "data": {
      "text/plain": [
       "6177"
      ]
     },
     "execution_count": 10,
     "metadata": {},
     "output_type": "execute_result"
    }
   ],
   "source": [
    "# no duplicated idUser\n",
    "\n",
    "ab_test.idUser.nunique()"
   ]
  },
  {
   "cell_type": "code",
   "execution_count": 15,
   "id": "58ab3b39",
   "metadata": {},
   "outputs": [
    {
     "data": {
      "text/html": [
       "<div>\n",
       "<style scoped>\n",
       "    .dataframe tbody tr th:only-of-type {\n",
       "        vertical-align: middle;\n",
       "    }\n",
       "\n",
       "    .dataframe tbody tr th {\n",
       "        vertical-align: top;\n",
       "    }\n",
       "\n",
       "    .dataframe thead th {\n",
       "        text-align: right;\n",
       "    }\n",
       "</style>\n",
       "<table border=\"1\" class=\"dataframe\">\n",
       "  <thead>\n",
       "    <tr style=\"text-align: right;\">\n",
       "      <th></th>\n",
       "      <th>nmGroup</th>\n",
       "      <th>count</th>\n",
       "      <th>totConv</th>\n",
       "      <th>convRate</th>\n",
       "    </tr>\n",
       "  </thead>\n",
       "  <tbody>\n",
       "    <tr>\n",
       "      <th>0</th>\n",
       "      <td>GRP A</td>\n",
       "      <td>3029</td>\n",
       "      <td>811</td>\n",
       "      <td>0.267745</td>\n",
       "    </tr>\n",
       "    <tr>\n",
       "      <th>1</th>\n",
       "      <td>GRP B</td>\n",
       "      <td>3148</td>\n",
       "      <td>915</td>\n",
       "      <td>0.290661</td>\n",
       "    </tr>\n",
       "  </tbody>\n",
       "</table>\n",
       "</div>"
      ],
      "text/plain": [
       "  nmGroup  count  totConv  convRate\n",
       "0   GRP A   3029      811  0.267745\n",
       "1   GRP B   3148      915  0.290661"
      ]
     },
     "execution_count": 15,
     "metadata": {},
     "output_type": "execute_result"
    }
   ],
   "source": [
    "# to show some statistics about conversions: how traffic has been diverted (count), how many conversions and conversion rate per group\n",
    "\n",
    "stat_df = ab_test.groupby('nmGroup', as_index=False)['isConv'].agg(['count', 'sum', 'mean']).rename(columns={'sum': 'totConv', 'mean': 'convRate'})\n",
    "stat_df"
   ]
  },
  {
   "cell_type": "code",
   "execution_count": null,
   "id": "7f77126d",
   "metadata": {},
   "outputs": [],
   "source": [
    "# baseline conversion rate: about 27 %\n",
    "# about 3000 observations per group\n",
    "# minimum detectable effect: about 3.2 %"
   ]
  },
  {
   "cell_type": "code",
   "execution_count": 17,
   "id": "d4befc44",
   "metadata": {},
   "outputs": [
    {
     "name": "stdout",
     "output_type": "stream",
     "text": [
      "Observed Test Statistic: 0.022916\n"
     ]
    }
   ],
   "source": [
    "# Observed Test Statistic: treatment conversion rate - control conversion rate\n",
    "\n",
    "mu_diff = stat_df['convRate'].iloc[1] - stat_df['convRate'].iloc[0]\n",
    "print('Observed Test Statistic:', round(mu_diff, 6))"
   ]
  },
  {
   "cell_type": "code",
   "execution_count": 18,
   "id": "38ac003f",
   "metadata": {},
   "outputs": [],
   "source": [
    "# permutation test\n",
    "\n",
    "n = 1000\n",
    "mu_diff_samples = []\n",
    "\n",
    "for i in range(n):\n",
    "    ab_test_sample1 = ab_test.sample(frac=0.5, replace=False)\n",
    "    ix2 = set(ab_test.index) - set(ab_test_sample1.index)\n",
    "    ab_test_sample2 = ab_test.iloc[list(ix2)]\n",
    "    mu_diff_tmp = ab_test_sample1['isConv'].mean() - ab_test_sample2['isConv'].mean()\n",
    "    mu_diff_samples.append(mu_diff_tmp)"
   ]
  },
  {
   "cell_type": "code",
   "execution_count": 30,
   "id": "ac54c37c",
   "metadata": {},
   "outputs": [
    {
     "data": {
      "image/png": "[encoded data removed]",
      "text/plain": [
       "<Figure size 640x480 with 1 Axes>"
      ]
     },
     "metadata": {},
     "output_type": "display_data"
    },
    {
     "name": "stdout",
     "output_type": "stream",
     "text": [
      "Average Simulated Test Statistic: -0.000197\n",
      "Observed Test Statistic: 0.022916\n"
     ]
    }
   ],
   "source": [
    "# to plot the distribution of the differences between sample means and highlight the Observed Test Statistic\n",
    "\n",
    "sns.histplot(mu_diff_samples)\n",
    "plt.axvline(mu_diff, ymin=0, ymax=1, linestyle='--', color='r')\n",
    "plt.show()\n",
    "\n",
    "print('Average Simulated Test Statistic:', round(np.mean(mu_diff_samples), 6))\n",
    "print('Observed Test Statistic:', round(np.mean(mu_diff), 6))"
   ]
  },
  {
   "cell_type": "code",
   "execution_count": 25,
   "id": "ffe0be4c",
   "metadata": {},
   "outputs": [],
   "source": [
    "# significance level of 5 %\n",
    "\n",
    "alpha = 0.05\n",
    "\n",
    "# p-value\n",
    "\n",
    "p_value = np.mean([el > mu_diff for el in mu_diff_samples])"
   ]
  },
  {
   "cell_type": "code",
   "execution_count": 27,
   "id": "f946d90f",
   "metadata": {},
   "outputs": [
    {
     "name": "stdout",
     "output_type": "stream",
     "text": [
      "Null hypothesis (H0) rejected: the observed result is statistically significant\n"
     ]
    }
   ],
   "source": [
    "# conclusions\n",
    "\n",
    "if p_value <= alpha:\n",
    "    print('Null hypothesis (H0) rejected: the observed result is statistically significant')\n",
    "else:\n",
    "    print('Null hypothesis (H0) accepted: the observed result is NOT statistically significant')"
   ]
  }
 ],
 "metadata": {
  "kernelspec": {
   "display_name": "Python 3 (ipykernel)",
   "language": "python",
   "name": "python3"
  },
  "language_info": {
   "codemirror_mode": {
    "name": "ipython",
    "version": 3
   },
   "file_extension": ".py",
   "mimetype": "text/x-python",
   "name": "python",
   "nbconvert_exporter": "python",
   "pygments_lexer": "ipython3",
   "version": "3.10.13"
  }
 },
 "nbformat": 4,
 "nbformat_minor": 5
}
